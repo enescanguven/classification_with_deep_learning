{
 "cells": [
  {
   "cell_type": "code",
   "execution_count": 16,
   "id": "little-defendant",
   "metadata": {},
   "outputs": [],
   "source": [
    "import torch\n",
    "import torch.nn as nn\n",
    "import torch.nn.functional as F          # adds some efficiency\n",
    "from torch.utils.data import DataLoader  # lets us load data in batches\n",
    "from torchvision import datasets, transforms\n",
    "\n",
    "import numpy as np\n",
    "import pandas as pd\n",
    "from sklearn.metrics import confusion_matrix  # for evaluating results\n",
    "import matplotlib.pyplot as plt\n",
    "%matplotlib inline"
   ]
  },
  {
   "cell_type": "code",
   "execution_count": 17,
   "id": "wanted-honey",
   "metadata": {},
   "outputs": [],
   "source": [
    "transform = transforms.ToTensor()"
   ]
  },
  {
   "cell_type": "code",
   "execution_count": 18,
   "id": "loose-harrison",
   "metadata": {},
   "outputs": [
    {
     "data": {
      "text/plain": [
       "Dataset MNIST\n",
       "    Number of datapoints: 60000\n",
       "    Root location: Data\n",
       "    Split: Train\n",
       "    StandardTransform\n",
       "Transform: ToTensor()"
      ]
     },
     "execution_count": 18,
     "metadata": {},
     "output_type": "execute_result"
    }
   ],
   "source": [
    "train_data = datasets.MNIST(root='Data', train=True, download=False, transform=transform)\n",
    "train_data"
   ]
  },
  {
   "cell_type": "code",
   "execution_count": 19,
   "id": "known-anatomy",
   "metadata": {},
   "outputs": [
    {
     "data": {
      "text/plain": [
       "Dataset MNIST\n",
       "    Number of datapoints: 10000\n",
       "    Root location: Data\n",
       "    Split: Test\n",
       "    StandardTransform\n",
       "Transform: ToTensor()"
      ]
     },
     "execution_count": 19,
     "metadata": {},
     "output_type": "execute_result"
    }
   ],
   "source": [
    "test_data = datasets.MNIST(root='Data', train=False, download=False, transform=transform)\n",
    "test_data"
   ]
  },
  {
   "cell_type": "code",
   "execution_count": 20,
   "id": "separated-lancaster",
   "metadata": {},
   "outputs": [],
   "source": [
    "torch.manual_seed(101)  # for consistent results\n",
    "\n",
    "train_loader = DataLoader(train_data, batch_size=100, shuffle=True)\n",
    "\n",
    "test_loader = DataLoader(test_data, batch_size=500, shuffle=False)"
   ]
  },
  {
   "cell_type": "code",
   "execution_count": 21,
   "id": "exciting-plaintiff",
   "metadata": {},
   "outputs": [],
   "source": [
    "class MultilayerPerceptron(nn.Module):\n",
    "    def __init__(self, in_sz=784, out_sz=10, layers=[120,84]):\n",
    "        super().__init__()\n",
    "        self.fc1 = nn.Linear(in_sz,layers[0])\n",
    "        self.fc2 = nn.Linear(layers[0],layers[1])\n",
    "        self.fc3 = nn.Linear(layers[1],out_sz)\n",
    "    \n",
    "    def forward(self,X):\n",
    "        X = F.relu(self.fc1(X))\n",
    "        X = F.relu(self.fc2(X))\n",
    "        X = self.fc3(X)\n",
    "        return F.log_softmax(X, dim=1)"
   ]
  },
  {
   "cell_type": "code",
   "execution_count": 22,
   "id": "equivalent-water",
   "metadata": {},
   "outputs": [
    {
     "data": {
      "text/plain": [
       "MultilayerPerceptron(\n",
       "  (fc1): Linear(in_features=784, out_features=120, bias=True)\n",
       "  (fc2): Linear(in_features=120, out_features=84, bias=True)\n",
       "  (fc3): Linear(in_features=84, out_features=10, bias=True)\n",
       ")"
      ]
     },
     "execution_count": 22,
     "metadata": {},
     "output_type": "execute_result"
    }
   ],
   "source": [
    "torch.manual_seed(101)\n",
    "model = MultilayerPerceptron()\n",
    "model"
   ]
  },
  {
   "cell_type": "code",
   "execution_count": 23,
   "id": "editorial-gross",
   "metadata": {},
   "outputs": [],
   "source": [
    "criterion = nn.CrossEntropyLoss()\n",
    "optimizer = torch.optim.Adam(model.parameters(), lr=0.001)"
   ]
  },
  {
   "cell_type": "code",
   "execution_count": 24,
   "id": "fewer-exception",
   "metadata": {},
   "outputs": [
    {
     "name": "stdout",
     "output_type": "stream",
     "text": [
      "epoch:  0  batch:  200 [ 20000/60000]  loss: 0.30946591  accuracy:  83.585%\n",
      "epoch:  0  batch:  400 [ 40000/60000]  loss: 0.16791894  accuracy:  87.945%\n",
      "epoch:  0  batch:  600 [ 60000/60000]  loss: 0.14138491  accuracy:  89.788%\n",
      "epoch:  1  batch:  200 [ 20000/60000]  loss: 0.22795951  accuracy:  94.960%\n",
      "epoch:  1  batch:  400 [ 40000/60000]  loss: 0.25164887  accuracy:  95.183%\n",
      "epoch:  1  batch:  600 [ 60000/60000]  loss: 0.13384342  accuracy:  95.418%\n",
      "epoch:  2  batch:  200 [ 20000/60000]  loss: 0.15869436  accuracy:  96.600%\n",
      "epoch:  2  batch:  400 [ 40000/60000]  loss: 0.07899343  accuracy:  96.665%\n",
      "epoch:  2  batch:  600 [ 60000/60000]  loss: 0.07815251  accuracy:  96.738%\n",
      "epoch:  3  batch:  200 [ 20000/60000]  loss: 0.15009296  accuracy:  97.380%\n",
      "epoch:  3  batch:  400 [ 40000/60000]  loss: 0.19550936  accuracy:  97.395%\n",
      "epoch:  3  batch:  600 [ 60000/60000]  loss: 0.02208382  accuracy:  97.448%\n",
      "epoch:  4  batch:  200 [ 20000/60000]  loss: 0.07289968  accuracy:  98.145%\n",
      "epoch:  4  batch:  400 [ 40000/60000]  loss: 0.04458306  accuracy:  98.020%\n",
      "epoch:  4  batch:  600 [ 60000/60000]  loss: 0.07112637  accuracy:  97.960%\n",
      "epoch:  5  batch:  200 [ 20000/60000]  loss: 0.04498373  accuracy:  98.620%\n",
      "epoch:  5  batch:  400 [ 40000/60000]  loss: 0.06561058  accuracy:  98.435%\n",
      "epoch:  5  batch:  600 [ 60000/60000]  loss: 0.09948559  accuracy:  98.412%\n",
      "epoch:  6  batch:  200 [ 20000/60000]  loss: 0.07018901  accuracy:  98.945%\n",
      "epoch:  6  batch:  400 [ 40000/60000]  loss: 0.02682747  accuracy:  98.763%\n",
      "epoch:  6  batch:  600 [ 60000/60000]  loss: 0.00920368  accuracy:  98.720%\n",
      "epoch:  7  batch:  200 [ 20000/60000]  loss: 0.02714793  accuracy:  98.955%\n",
      "epoch:  7  batch:  400 [ 40000/60000]  loss: 0.07389949  accuracy:  98.922%\n",
      "epoch:  7  batch:  600 [ 60000/60000]  loss: 0.05969366  accuracy:  98.878%\n",
      "epoch:  8  batch:  200 [ 20000/60000]  loss: 0.02882620  accuracy:  99.145%\n",
      "epoch:  8  batch:  400 [ 40000/60000]  loss: 0.00661613  accuracy:  99.112%\n",
      "epoch:  8  batch:  600 [ 60000/60000]  loss: 0.03617527  accuracy:  99.077%\n",
      "epoch:  9  batch:  200 [ 20000/60000]  loss: 0.04773374  accuracy:  99.385%\n",
      "epoch:  9  batch:  400 [ 40000/60000]  loss: 0.02099393  accuracy:  99.252%\n",
      "epoch:  9  batch:  600 [ 60000/60000]  loss: 0.01339154  accuracy:  99.197%\n",
      "epoch: 10  batch:  200 [ 20000/60000]  loss: 0.00981876  accuracy:  99.425%\n",
      "epoch: 10  batch:  400 [ 40000/60000]  loss: 0.01614700  accuracy:  99.370%\n",
      "epoch: 10  batch:  600 [ 60000/60000]  loss: 0.01086640  accuracy:  99.323%\n",
      "epoch: 11  batch:  200 [ 20000/60000]  loss: 0.00485885  accuracy:  99.575%\n",
      "epoch: 11  batch:  400 [ 40000/60000]  loss: 0.00740430  accuracy:  99.517%\n",
      "epoch: 11  batch:  600 [ 60000/60000]  loss: 0.00109951  accuracy:  99.488%\n",
      "epoch: 12  batch:  200 [ 20000/60000]  loss: 0.01308977  accuracy:  99.720%\n",
      "epoch: 12  batch:  400 [ 40000/60000]  loss: 0.01041353  accuracy:  99.655%\n",
      "epoch: 12  batch:  600 [ 60000/60000]  loss: 0.04486598  accuracy:  99.585%\n",
      "epoch: 13  batch:  200 [ 20000/60000]  loss: 0.02294239  accuracy:  99.650%\n",
      "epoch: 13  batch:  400 [ 40000/60000]  loss: 0.02051226  accuracy:  99.670%\n",
      "epoch: 13  batch:  600 [ 60000/60000]  loss: 0.03243095  accuracy:  99.613%\n",
      "epoch: 14  batch:  200 [ 20000/60000]  loss: 0.00033998  accuracy:  99.820%\n",
      "epoch: 14  batch:  400 [ 40000/60000]  loss: 0.00696870  accuracy:  99.623%\n",
      "epoch: 14  batch:  600 [ 60000/60000]  loss: 0.02412247  accuracy:  99.612%\n",
      "epoch: 15  batch:  200 [ 20000/60000]  loss: 0.00106062  accuracy:  99.620%\n",
      "epoch: 15  batch:  400 [ 40000/60000]  loss: 0.00339363  accuracy:  99.642%\n",
      "epoch: 15  batch:  600 [ 60000/60000]  loss: 0.03595997  accuracy:  99.618%\n",
      "epoch: 16  batch:  200 [ 20000/60000]  loss: 0.04197194  accuracy:  99.615%\n",
      "epoch: 16  batch:  400 [ 40000/60000]  loss: 0.01057554  accuracy:  99.695%\n",
      "epoch: 16  batch:  600 [ 60000/60000]  loss: 0.01688210  accuracy:  99.650%\n",
      "epoch: 17  batch:  200 [ 20000/60000]  loss: 0.00170569  accuracy:  99.810%\n",
      "epoch: 17  batch:  400 [ 40000/60000]  loss: 0.01808221  accuracy:  99.750%\n",
      "epoch: 17  batch:  600 [ 60000/60000]  loss: 0.01312202  accuracy:  99.702%\n",
      "epoch: 18  batch:  200 [ 20000/60000]  loss: 0.00211601  accuracy:  99.670%\n",
      "epoch: 18  batch:  400 [ 40000/60000]  loss: 0.00145553  accuracy:  99.722%\n",
      "epoch: 18  batch:  600 [ 60000/60000]  loss: 0.01941979  accuracy:  99.678%\n",
      "epoch: 19  batch:  200 [ 20000/60000]  loss: 0.00272911  accuracy:  99.685%\n",
      "epoch: 19  batch:  400 [ 40000/60000]  loss: 0.00053478  accuracy:  99.737%\n",
      "epoch: 19  batch:  600 [ 60000/60000]  loss: 0.00513654  accuracy:  99.722%\n",
      "\n",
      "Duration: 111 seconds\n"
     ]
    }
   ],
   "source": [
    "import time\n",
    "start_time = time.time()\n",
    "\n",
    "epochs = 20\n",
    "train_losses = []\n",
    "test_losses = []\n",
    "train_correct = []\n",
    "test_correct = []\n",
    "train_losses_graph = []\n",
    "test_losses_graph = []\n",
    "\n",
    "for i in range(epochs):\n",
    "    trn_corr = 0\n",
    "    tst_corr = 0\n",
    "    \n",
    "    # Run the training batches\n",
    "    for b, (X_train, y_train) in enumerate(train_loader):\n",
    "        b+=1\n",
    "        \n",
    "        # Apply the model\n",
    "        y_pred = model(X_train.view(100, -1))  # Here we flatten X_train\n",
    "        loss = criterion(y_pred, y_train)\n",
    " \n",
    "        # Tally the number of correct predictions\n",
    "        predicted = torch.max(y_pred.data, 1)[1]\n",
    "        batch_corr = (predicted == y_train).sum()\n",
    "        trn_corr += batch_corr\n",
    "        \n",
    "        # Update parameters\n",
    "        optimizer.zero_grad()\n",
    "        loss.backward()\n",
    "        optimizer.step()\n",
    "        \n",
    "        # Print interim results\n",
    "        if b%200 == 0:\n",
    "            print(f'epoch: {i:2}  batch: {b:4} [{100*b:6}/60000]  loss: {loss.item():10.8f}  \\\n",
    "accuracy: {trn_corr.item()*100/(100*b):7.3f}%')\n",
    "    \n",
    "    # Update train loss & accuracy for the epoch\n",
    "    train_losses.append(loss)\n",
    "    train_losses_graph.append(loss.item())\n",
    "    train_correct.append(trn_corr)\n",
    "        \n",
    "    # Run the testing batches\n",
    "    with torch.no_grad():\n",
    "        for b, (X_test, y_test) in enumerate(test_loader):\n",
    "\n",
    "            # Apply the model\n",
    "            y_val = model(X_test.view(500, -1))  # Here we flatten X_test\n",
    "\n",
    "            # Tally the number of correct predictions\n",
    "            predicted = torch.max(y_val.data, 1)[1] \n",
    "            tst_corr += (predicted == y_test).sum()\n",
    "    \n",
    "    # Update test loss & accuracy for the epoch\n",
    "    loss = criterion(y_val, y_test)\n",
    "    test_losses.append(loss)\n",
    "    \n",
    "    loss_t = criterion(y_val, y_test).item()\n",
    "    test_losses_graph.append(loss_t)\n",
    "    \n",
    "    test_correct.append(tst_corr.item())\n",
    "        \n",
    "print(f'\\nDuration: {time.time() - start_time:.0f} seconds') # print the time elapsed            "
   ]
  },
  {
   "cell_type": "code",
   "execution_count": 25,
   "id": "common-violin",
   "metadata": {},
   "outputs": [
    {
     "data": {
      "image/png": "[encoded data removed]",
      "text/plain": [
       "<Figure size 432x288 with 1 Axes>"
      ]
     },
     "metadata": {
      "needs_background": "light"
     },
     "output_type": "display_data"
    }
   ],
   "source": [
    "plt.plot(train_losses_graph, label='training loss')\n",
    "plt.plot(test_losses_graph, label='validation loss')\n",
    "plt.title('Loss at the end of each epoch')\n",
    "plt.legend();"
   ]
  },
  {
   "cell_type": "code",
   "execution_count": 26,
   "id": "developed-ukraine",
   "metadata": {},
   "outputs": [
    {
     "name": "stdout",
     "output_type": "stream",
     "text": [
      "[9482, 9604, 9650, 9688, 9724, 9766, 9703, 9783, 9774, 9749, 9779, 9778, 9774, 9785, 9760, 9743, 9785, 9770, 9759, 9770]\n",
      "\n",
      "Test accuracy: 97.700%\n"
     ]
    }
   ],
   "source": [
    "print(test_correct) # contains the results of all 10 epochs\n",
    "print()\n",
    "print(f'Test accuracy: {test_correct[-1]*100/10000:.3f}%') # print the most recent result as a percent"
   ]
  },
  {
   "cell_type": "code",
   "execution_count": 27,
   "id": "governmental-hearts",
   "metadata": {},
   "outputs": [],
   "source": [
    "test_load_all = DataLoader(test_data, batch_size=10000, shuffle=False)"
   ]
  },
  {
   "cell_type": "code",
   "execution_count": 28,
   "id": "sophisticated-logistics",
   "metadata": {},
   "outputs": [
    {
     "name": "stdout",
     "output_type": "stream",
     "text": [
      "Test accuracy: 9770/10000 =  97.700%\n"
     ]
    }
   ],
   "source": [
    "with torch.no_grad():\n",
    "    correct = 0\n",
    "    for X_test, y_test in test_load_all:\n",
    "        y_val = model(X_test.view(len(X_test), -1))  # pass in a flattened view of X_test\n",
    "        predicted = torch.max(y_val,1)[1]\n",
    "        correct += (predicted == y_test).sum()\n",
    "print(f'Test accuracy: {correct.item()}/{len(test_data)} = {correct.item()*100/(len(test_data)):7.3f}%')"
   ]
  },
  {
   "cell_type": "code",
   "execution_count": 29,
   "id": "thorough-indication",
   "metadata": {},
   "outputs": [
    {
     "name": "stdout",
     "output_type": "stream",
     "text": [
      "[[   0    1    2    3    4    5    6    7    8    9]]\n",
      "\n",
      "[[ 972    0    6    2    0    2    1    0    5    1]\n",
      " [   0 1125    2    0    0    0    2    4    0    2]\n",
      " [   0    0 1001    2    4    0    0   13    2    0]\n",
      " [   2    3    1  970    0    2    1    0    2    2]\n",
      " [   1    0    1    1  964    1    1    2    3   20]\n",
      " [   0    0    0   19    0  878    4    1    9    8]\n",
      " [   1    3    3    0    9    7  949    0    2    0]\n",
      " [   1    1   10    6    1    1    0 1003    3    9]\n",
      " [   3    3    7    5    1    0    0    3  947    6]\n",
      " [   0    0    1    5    3    1    0    2    1  961]]\n"
     ]
    }
   ],
   "source": [
    "# print a row of values for reference\n",
    "np.set_printoptions(formatter=dict(int=lambda x: f'{x:4}'))\n",
    "print(np.arange(10).reshape(1,10))\n",
    "print()\n",
    "\n",
    "# print the confusion matrix\n",
    "print(confusion_matrix(predicted.view(-1), y_test.view(-1)))"
   ]
  },
  {
   "cell_type": "code",
   "execution_count": 30,
   "id": "hindu-eagle",
   "metadata": {},
   "outputs": [],
   "source": [
    "# 1. deney test accuracy = 97,49"
   ]
  }
 ],
 "metadata": {
  "kernelspec": {
   "display_name": "Python 3",
   "language": "python",
   "name": "python3"
  },
  "language_info": {
   "codemirror_mode": {
    "name": "ipython",
    "version": 3
   },
   "file_extension": ".py",
   "mimetype": "text/x-python",
   "name": "python",
   "nbconvert_exporter": "python",
   "pygments_lexer": "ipython3",
   "version": "3.8.5"
  }
 },
 "nbformat": 4,
 "nbformat_minor": 5
}
