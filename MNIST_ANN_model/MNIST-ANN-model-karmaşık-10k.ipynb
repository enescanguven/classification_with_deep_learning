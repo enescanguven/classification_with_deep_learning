{
 "cells": [
  {
   "cell_type": "code",
   "execution_count": 31,
   "id": "little-defendant",
   "metadata": {},
   "outputs": [],
   "source": [
    "import torch\n",
    "import torch.nn as nn\n",
    "import torch.nn.functional as F          # adds some efficiency\n",
    "from torch.utils.data import DataLoader  # lets us load data in batches\n",
    "from torchvision import datasets, transforms\n",
    "\n",
    "import numpy as np\n",
    "import pandas as pd\n",
    "from sklearn.metrics import confusion_matrix  # for evaluating results\n",
    "import matplotlib.pyplot as plt\n",
    "%matplotlib inline"
   ]
  },
  {
   "cell_type": "code",
   "execution_count": 32,
   "id": "wanted-honey",
   "metadata": {},
   "outputs": [],
   "source": [
    "transform = transforms.ToTensor()"
   ]
  },
  {
   "cell_type": "code",
   "execution_count": 33,
   "id": "loose-harrison",
   "metadata": {},
   "outputs": [
    {
     "data": {
      "text/plain": [
       "Dataset MNIST\n",
       "    Number of datapoints: 60000\n",
       "    Root location: Data\n",
       "    Split: Train\n",
       "    StandardTransform\n",
       "Transform: ToTensor()"
      ]
     },
     "execution_count": 33,
     "metadata": {},
     "output_type": "execute_result"
    }
   ],
   "source": [
    "train_data = datasets.MNIST(root='Data', train=True, download=False, transform=transform, )\n",
    "train_data"
   ]
  },
  {
   "cell_type": "code",
   "execution_count": 34,
   "id": "known-anatomy",
   "metadata": {},
   "outputs": [
    {
     "data": {
      "text/plain": [
       "Dataset MNIST\n",
       "    Number of datapoints: 10000\n",
       "    Root location: Data\n",
       "    Split: Test\n",
       "    StandardTransform\n",
       "Transform: ToTensor()"
      ]
     },
     "execution_count": 34,
     "metadata": {},
     "output_type": "execute_result"
    }
   ],
   "source": [
    "test_data = datasets.MNIST(root='Data', train=False, download=False, transform=transform)\n",
    "test_data"
   ]
  },
  {
   "cell_type": "code",
   "execution_count": 35,
   "id": "separated-lancaster",
   "metadata": {},
   "outputs": [],
   "source": [
    "torch.manual_seed(101)  # for consistent results\n",
    "\n",
    "part_train = torch.utils.data.random_split(train_data, [10000, len(train_data)-10000])[0]\n",
    "\n",
    "train_loader = DataLoader(part_train, batch_size=100, shuffle=True)\n",
    "\n",
    "test_loader = DataLoader(test_data, batch_size=500, shuffle=False)"
   ]
  },
  {
   "cell_type": "code",
   "execution_count": null,
   "id": "optical-brazilian",
   "metadata": {},
   "outputs": [],
   "source": []
  },
  {
   "cell_type": "code",
   "execution_count": 36,
   "id": "exciting-plaintiff",
   "metadata": {},
   "outputs": [],
   "source": [
    "class MultilayerPerceptron(nn.Module):\n",
    "    def __init__(self, in_sz=784, out_sz=10, layers=[120,84,64,120,32,40]):\n",
    "        super().__init__()\n",
    "        self.fc1 = nn.Linear(in_sz,layers[0])\n",
    "        self.fc2 = nn.Linear(layers[0],layers[1])\n",
    "        self.fc3 = nn.Linear(layers[1],layers[2])\n",
    "        self.fc4 = nn.Linear(layers[2],layers[3])\n",
    "        self.fc5 = nn.Linear(layers[3],layers[4])\n",
    "        self.fc6 = nn.Linear(layers[4],layers[5])\n",
    "        self.fc7 = nn.Linear(layers[5],out_sz)\n",
    "    \n",
    "    def forward(self,X):\n",
    "        X = F.relu(self.fc1(X))\n",
    "        X = F.relu(self.fc2(X))\n",
    "        X = F.relu(self.fc3(X))\n",
    "        X = F.relu(self.fc4(X))\n",
    "        X = F.relu(self.fc5(X))\n",
    "        X = F.relu(self.fc6(X))\n",
    "\n",
    "        X = self.fc7(X)\n",
    "        return F.log_softmax(X, dim=1)"
   ]
  },
  {
   "cell_type": "code",
   "execution_count": 37,
   "id": "equivalent-water",
   "metadata": {},
   "outputs": [
    {
     "data": {
      "text/plain": [
       "MultilayerPerceptron(\n",
       "  (fc1): Linear(in_features=784, out_features=120, bias=True)\n",
       "  (fc2): Linear(in_features=120, out_features=84, bias=True)\n",
       "  (fc3): Linear(in_features=84, out_features=64, bias=True)\n",
       "  (fc4): Linear(in_features=64, out_features=120, bias=True)\n",
       "  (fc5): Linear(in_features=120, out_features=32, bias=True)\n",
       "  (fc6): Linear(in_features=32, out_features=40, bias=True)\n",
       "  (fc7): Linear(in_features=40, out_features=10, bias=True)\n",
       ")"
      ]
     },
     "execution_count": 37,
     "metadata": {},
     "output_type": "execute_result"
    }
   ],
   "source": [
    "torch.manual_seed(101)\n",
    "model = MultilayerPerceptron()\n",
    "model"
   ]
  },
  {
   "cell_type": "code",
   "execution_count": 38,
   "id": "editorial-gross",
   "metadata": {},
   "outputs": [],
   "source": [
    "criterion = nn.CrossEntropyLoss()\n",
    "optimizer = torch.optim.Adam(model.parameters(), lr=0.001)"
   ]
  },
  {
   "cell_type": "code",
   "execution_count": 39,
   "id": "fewer-exception",
   "metadata": {},
   "outputs": [
    {
     "name": "stdout",
     "output_type": "stream",
     "text": [
      "epoch:  0  batch:  100 [ 10000/60000]  loss: 0.68795276  accuracy:  47.820%\n",
      "epoch:  1  batch:  100 [ 10000/60000]  loss: 0.50649881  accuracy:  82.710%\n",
      "epoch:  2  batch:  100 [ 10000/60000]  loss: 0.27670825  accuracy:  88.760%\n",
      "epoch:  3  batch:  100 [ 10000/60000]  loss: 0.31552646  accuracy:  91.140%\n",
      "epoch:  4  batch:  100 [ 10000/60000]  loss: 0.22343034  accuracy:  93.260%\n",
      "epoch:  5  batch:  100 [ 10000/60000]  loss: 0.22525068  accuracy:  94.450%\n",
      "epoch:  6  batch:  100 [ 10000/60000]  loss: 0.19239451  accuracy:  95.290%\n",
      "epoch:  7  batch:  100 [ 10000/60000]  loss: 0.24752574  accuracy:  96.020%\n",
      "epoch:  8  batch:  100 [ 10000/60000]  loss: 0.15766323  accuracy:  96.550%\n",
      "epoch:  9  batch:  100 [ 10000/60000]  loss: 0.06695704  accuracy:  97.370%\n",
      "epoch: 10  batch:  100 [ 10000/60000]  loss: 0.10612872  accuracy:  97.560%\n",
      "epoch: 11  batch:  100 [ 10000/60000]  loss: 0.12451027  accuracy:  98.200%\n",
      "epoch: 12  batch:  100 [ 10000/60000]  loss: 0.05592425  accuracy:  97.980%\n",
      "epoch: 13  batch:  100 [ 10000/60000]  loss: 0.00907417  accuracy:  98.610%\n",
      "epoch: 14  batch:  100 [ 10000/60000]  loss: 0.04467087  accuracy:  99.090%\n",
      "epoch: 15  batch:  100 [ 10000/60000]  loss: 0.01741356  accuracy:  99.480%\n",
      "epoch: 16  batch:  100 [ 10000/60000]  loss: 0.02698537  accuracy:  99.020%\n",
      "epoch: 17  batch:  100 [ 10000/60000]  loss: 0.00826049  accuracy:  98.250%\n",
      "epoch: 18  batch:  100 [ 10000/60000]  loss: 0.05636963  accuracy:  99.220%\n",
      "epoch: 19  batch:  100 [ 10000/60000]  loss: 0.02439574  accuracy:  99.330%\n",
      "\n",
      "Duration: 32 seconds\n"
     ]
    }
   ],
   "source": [
    "import time\n",
    "start_time = time.time()\n",
    "\n",
    "epochs = 20\n",
    "train_losses = []\n",
    "test_losses = []\n",
    "train_correct = []\n",
    "test_correct = []\n",
    "train_losses_graph = []\n",
    "test_losses_graph = []\n",
    "\n",
    "for i in range(epochs):\n",
    "    trn_corr = 0\n",
    "    tst_corr = 0\n",
    "    \n",
    "    # Run the training batches\n",
    "    for b, (X_train, y_train) in enumerate(train_loader):\n",
    "        b+=1\n",
    "        \n",
    "        # Apply the model\n",
    "        y_pred = model(X_train.view(100, -1))  # Here we flatten X_train\n",
    "        loss = criterion(y_pred, y_train)\n",
    " \n",
    "        # Tally the number of correct predictions\n",
    "        predicted = torch.max(y_pred.data, 1)[1]\n",
    "        batch_corr = (predicted == y_train).sum()\n",
    "        trn_corr += batch_corr\n",
    "        \n",
    "        # Update parameters\n",
    "        optimizer.zero_grad()\n",
    "        loss.backward()\n",
    "        optimizer.step()\n",
    "        \n",
    "        # Print interim results\n",
    "        if b%100 == 0:\n",
    "            print(f'epoch: {i:2}  batch: {b:4} [{100*b:6}/60000]  loss: {loss.item():10.8f}  \\\n",
    "accuracy: {trn_corr.item()*100/(100*b):7.3f}%')\n",
    "    \n",
    "    # Update train loss & accuracy for the epoch\n",
    "    train_losses.append(loss)\n",
    "    train_losses_graph.append(loss.item())\n",
    "    train_correct.append(trn_corr)\n",
    "        \n",
    "    # Run the testing batches\n",
    "    with torch.no_grad():\n",
    "        for b, (X_test, y_test) in enumerate(test_loader):\n",
    "\n",
    "            # Apply the model\n",
    "            y_val = model(X_test.view(500, -1))  # Here we flatten X_test\n",
    "\n",
    "            # Tally the number of correct predictions\n",
    "            predicted = torch.max(y_val.data, 1)[1] \n",
    "            tst_corr += (predicted == y_test).sum()\n",
    "    \n",
    "    # Update test loss & accuracy for the epoch\n",
    "    loss = criterion(y_val, y_test)\n",
    "    test_losses.append(loss)\n",
    "    \n",
    "    loss_t = criterion(y_val, y_test).item()\n",
    "    test_losses_graph.append(loss_t)\n",
    "    \n",
    "    test_correct.append(tst_corr.item())\n",
    "        \n",
    "print(f'\\nDuration: {time.time() - start_time:.0f} seconds') # print the time elapsed            "
   ]
  },
  {
   "cell_type": "code",
   "execution_count": 40,
   "id": "common-violin",
   "metadata": {},
   "outputs": [
    {
     "data": {
      "image/png": "[encoded data removed]",
      "text/plain": [
       "<Figure size 432x288 with 1 Axes>"
      ]
     },
     "metadata": {
      "needs_background": "light"
     },
     "output_type": "display_data"
    }
   ],
   "source": [
    "plt.plot(train_losses_graph, label='training loss')\n",
    "plt.plot(test_losses_graph, label='validation loss')\n",
    "plt.title('Loss at the end of each epoch')\n",
    "plt.legend();"
   ]
  },
  {
   "cell_type": "code",
   "execution_count": 41,
   "id": "developed-ukraine",
   "metadata": {},
   "outputs": [
    {
     "name": "stdout",
     "output_type": "stream",
     "text": [
      "[7738, 8574, 8969, 9125, 9181, 9051, 9253, 9352, 9299, 9360, 9439, 9363, 9407, 9420, 9432, 9457, 9306, 9445, 9317, 9451]\n",
      "\n",
      "Test accuracy: 94.510%\n"
     ]
    }
   ],
   "source": [
    "print(test_correct) # contains the results of all 10 epochs\n",
    "print()\n",
    "print(f'Test accuracy: {test_correct[-1]*100/10000:.3f}%') # print the most recent result as a percent"
   ]
  },
  {
   "cell_type": "code",
   "execution_count": 42,
   "id": "governmental-hearts",
   "metadata": {},
   "outputs": [],
   "source": [
    "test_load_all = DataLoader(test_data, batch_size=10000, shuffle=False)"
   ]
  },
  {
   "cell_type": "code",
   "execution_count": 43,
   "id": "sophisticated-logistics",
   "metadata": {},
   "outputs": [
    {
     "name": "stdout",
     "output_type": "stream",
     "text": [
      "Test accuracy: 9451/10000 =  94.510%\n"
     ]
    }
   ],
   "source": [
    "with torch.no_grad():\n",
    "    correct = 0\n",
    "    for X_test, y_test in test_load_all:\n",
    "        y_val = model(X_test.view(len(X_test), -1))  # pass in a flattened view of X_test\n",
    "        predicted = torch.max(y_val,1)[1]\n",
    "        correct += (predicted == y_test).sum()\n",
    "print(f'Test accuracy: {correct.item()}/{len(test_data)} = {correct.item()*100/(len(test_data)):7.3f}%')"
   ]
  },
  {
   "cell_type": "code",
   "execution_count": 44,
   "id": "thorough-indication",
   "metadata": {},
   "outputs": [
    {
     "name": "stdout",
     "output_type": "stream",
     "text": [
      "[[   0    1    2    3    4    5    6    7    8    9]]\n",
      "\n",
      "[[ 955    0    6    0    0    4   16    1    5    9]\n",
      " [   0 1117    3    1    2    5    3    4    2    5]\n",
      " [   2    3  968    7    9    0    4   18    8    1]\n",
      " [   1    4   24  962    0   18    0    8   18    8]\n",
      " [   4    0    7    1  928    5   13    4    8   27]\n",
      " [   3    1    0   11    1  834   24    4    7    4]\n",
      " [   8    2    2    0   16    5  894    0    3    0]\n",
      " [   1    2    6    9    0    2    0  943    2    5]\n",
      " [   5    6   13   12    5   18    4    2  908    8]\n",
      " [   1    0    3    7   21    1    0   44   13  942]]\n"
     ]
    }
   ],
   "source": [
    "# print a row of values for reference\n",
    "np.set_printoptions(formatter=dict(int=lambda x: f'{x:4}'))\n",
    "print(np.arange(10).reshape(1,10))\n",
    "print()\n",
    "\n",
    "# print the confusion matrix\n",
    "print(confusion_matrix(predicted.view(-1), y_test.view(-1)))"
   ]
  },
  {
   "cell_type": "code",
   "execution_count": 45,
   "id": "hindu-eagle",
   "metadata": {},
   "outputs": [],
   "source": [
    "# 2. deney test accuracy = 94,510"
   ]
  },
  {
   "cell_type": "code",
   "execution_count": null,
   "id": "artistic-acceptance",
   "metadata": {},
   "outputs": [],
   "source": [
    "bir"
   ]
  },
  {
   "cell_type": "code",
   "execution_count": null,
   "id": "executive-bunch",
   "metadata": {},
   "outputs": [],
   "source": []
  }
 ],
 "metadata": {
  "kernelspec": {
   "display_name": "Python 3",
   "language": "python",
   "name": "python3"
  },
  "language_info": {
   "codemirror_mode": {
    "name": "ipython",
    "version": 3
   },
   "file_extension": ".py",
   "mimetype": "text/x-python",
   "name": "python",
   "nbconvert_exporter": "python",
   "pygments_lexer": "ipython3",
   "version": "3.8.5"
  }
 },
 "nbformat": 4,
 "nbformat_minor": 5
}
